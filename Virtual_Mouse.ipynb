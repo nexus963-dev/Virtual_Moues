{
 "cells": [
  {
   "cell_type": "code",
   "execution_count": 39,
   "id": "e773a26c-b51d-418d-a17b-4c2b3158c984",
   "metadata": {},
   "outputs": [],
   "source": [
    "import cv2\n",
    "import mediapipe as mp\n",
    "import pyautogui\n",
    "import Utils\n",
    "from pynput.mouse import Button, Controller\n",
    "import random"
   ]
  },
  {
   "cell_type": "code",
   "execution_count": 40,
   "id": "3b540aa8-2a84-407a-a129-395e4c0ef554",
   "metadata": {},
   "outputs": [],
   "source": [
    "screen_width, screen_height = pyautogui.size()\n",
    "mouse = Controller()\n",
    "mpHands = mp.solutions.hands\n",
    "hands = mpHands.Hands(\n",
    "    static_image_mode=False,\n",
    "    model_complexity=1,\n",
    "    min_detection_confidence=0.7,\n",
    "    min_tracking_confidence=0.7,\n",
    "    max_num_hands=1\n",
    ")"
   ]
  },
  {
   "cell_type": "code",
   "execution_count": 41,
   "id": "4fdbdd88-c7ec-44ae-9741-d5523b29bd0f",
   "metadata": {},
   "outputs": [],
   "source": [
    "def find_finger_tip(processed):\n",
    "    if processed.multi_hand_landmarks:\n",
    "        hand_landmarks = processed.multi_hand_landmarks[0]\n",
    "        return hand_landmarks.landmark[mpHands.HandLandmark.INDEX_FINGER_TIP]\n",
    "\n",
    "    return None"
   ]
  },
  {
   "cell_type": "code",
   "execution_count": 42,
   "id": "5d5be7b8-22a8-4201-a70d-206676ef062f",
   "metadata": {},
   "outputs": [],
   "source": [
    "def move_mouse(index_finger_tip):\n",
    "    if index_finger_tip is not None:\n",
    "        x = int(index_finger_tip.x * screen_width)\n",
    "        y = int(index_finger_tip.y * screen_height)\n",
    "        pyautogui.moveTo(x,y)"
   ]
  },
  {
   "cell_type": "code",
   "execution_count": 43,
   "id": "ebb12301-fb61-4a85-a7f7-4f44419b500f",
   "metadata": {},
   "outputs": [],
   "source": [
    "def is_left_click(landmark_list, thumb_index_dist):\n",
    "    return (Utils.get_angle(landmark_list[5], landmark_list[6], landmark_list[8]) < 50 and\n",
    "           Utils.get_angle(landmark_list[9], landmark_list[10], landmark_list[12]) > 90 and\n",
    "           thumb_index_dist > 50)\n",
    "\n",
    "def is_right_click(landmark_list, thumb_index_dist):\n",
    "    return (Utils.get_angle(landmark_list[5], landmark_list[6], landmark_list[8]) >90 and\n",
    "           Utils.get_angle(landmark_list[9], landmark_list[10], landmark_list[12]) <50 and\n",
    "           thumb_index_dist > 50)\n",
    "\n",
    "def is_double_click(landmark_list, thumb_index_dist):\n",
    "    return (Utils.get_angle(landmark_list[5], landmark_list[6], landmark_list[8]) < 50 and\n",
    "           Utils.get_angle(landmark_list[9], landmark_list[10], landmark_list[12]) < 90 and\n",
    "           thumb_index_dist > 50)\n",
    "\n",
    "def is_screenshot(landmark_list, thumb_index_dist):\n",
    "    return (Utils.get_angle(landmark_list[5], landmark_list[6], landmark_list[8]) < 50 and\n",
    "           Utils.get_angle(landmark_list[9], landmark_list[10], landmark_list[12]) < 50 and\n",
    "           thumb_index_dist < 50)"
   ]
  },
  {
   "cell_type": "code",
   "execution_count": 44,
   "id": "a77d32b5-9e26-4c68-8fc0-054521c919b1",
   "metadata": {},
   "outputs": [],
   "source": [
    "def detect_gestures(frame, landmark_list, processed):\n",
    "    if len(landmark_list) >=21:\n",
    "\n",
    "        index_finger_tip = find_finger_tip(processed)\n",
    "        thumb_index_dist = Utils.get_distance([landmark_list[4], landmark_list[5]])\n",
    "\n",
    "        if thumb_index_dist<50 and Utils.get_angle(landmark_list[5], landmark_list[6], landmark_list[8]) >90 :\n",
    "            move_mouse(index_finger_tip)\n",
    "\n",
    "        #Left Click\n",
    "        elif is_left_click(landmark_list,thumb_index_dist):\n",
    "            mouse.press(Button.left)\n",
    "            mouse.release(Button.left)\n",
    "            cv2.putText(frame, \"Left Click\", (50,50), cv2.FONT_HERSHEY_SIMPLEX, 1, (0,255,0),2)\n",
    "        #Right Click\n",
    "        elif is_left_click(landmark_list,thumb_index_dist):\n",
    "            mouse.press(Button.right)\n",
    "            mouse.release(Button.right)\n",
    "            cv2.putText(frame, \"Right Click\", (50,50), cv2.FONT_HERSHEY_SIMPLEX, 1, (0,255,0),2)\n",
    "        #Double Click\n",
    "        elif is_double_click(landmark_list,thumb_index_dist):\n",
    "            pyautogui.doubleClick()\n",
    "            cv2.putText(frame, \"Double Click\", (50,50), cv2.FONT_HERSHEY_SIMPLEX, 1, (0,255,0),2)\n",
    "        #Screenshot\n",
    "        elif is_screenshot(landmark_list,thumb_index_dist):\n",
    "            im1 = pyautogui.screenshot()\n",
    "            label = random.randint(1,1000)\n",
    "            im1.save(f'my_screenshot_{label}.png')\n",
    "            cv2.putText(frame, \"Screenshot Taken\", (50,50), cv2.FONT_HERSHEY_SIMPLEX, 1, (0,255,0),2)\n",
    "        "
   ]
  },
  {
   "cell_type": "code",
   "execution_count": 45,
   "id": "b3ff5fa7-e311-4a18-a920-7c9c4568218a",
   "metadata": {},
   "outputs": [],
   "source": [
    "def main():\n",
    "    cap = cv2.VideoCapture(0)\n",
    "    draw = mp.solutions.drawing_utils\n",
    "    \n",
    "    try:\n",
    "        while cap.isOpened():\n",
    "            ret, frame = cap.read()\n",
    "\n",
    "            if not ret:\n",
    "                break\n",
    "            frame = cv2.flip(frame,1)\n",
    "            frameRGB = cv2.cvtColor(frame, cv2.COLOR_BGR2RGB)\n",
    "            processed = hands.process(frameRGB)\n",
    "\n",
    "            landmarks_list = []\n",
    "\n",
    "            if processed.multi_hand_landmarks:\n",
    "                hand_landmarks = processed.multi_hand_landmarks[0]\n",
    "                draw.draw_landmarks(frame,hand_landmarks, mpHands.HAND_CONNECTIONS)\n",
    "\n",
    "                for lm in hand_landmarks.landmark:\n",
    "                    landmarks_list.append((lm.x, lm.y))\n",
    "\n",
    "            detect_gestures(frame, landmarks_list, processed)\n",
    "            \n",
    "            cv2.imshow(\"Frame\",frame)\n",
    "            if cv2.waitKey(1) & 0xFF == ord('q'):\n",
    "                break\n",
    "    finally:\n",
    "        cap.release()\n",
    "        cv2.destroyAllWindows()\n",
    "\n",
    "if __name__ == '__main__':\n",
    "    main()"
   ]
  },
  {
   "cell_type": "code",
   "execution_count": null,
   "id": "cbf67338-e03f-44fc-afde-f584cfe7f6eb",
   "metadata": {},
   "outputs": [],
   "source": []
  },
  {
   "cell_type": "code",
   "execution_count": null,
   "id": "3856870e-ac31-4f3a-af46-ada320d4471c",
   "metadata": {},
   "outputs": [],
   "source": []
  }
 ],
 "metadata": {
  "kernelspec": {
   "display_name": "Python 3 (ipykernel)",
   "language": "python",
   "name": "python3"
  },
  "language_info": {
   "codemirror_mode": {
    "name": "ipython",
    "version": 3
   },
   "file_extension": ".py",
   "mimetype": "text/x-python",
   "name": "python",
   "nbconvert_exporter": "python",
   "pygments_lexer": "ipython3",
   "version": "3.12.7"
  }
 },
 "nbformat": 4,
 "nbformat_minor": 5
}
